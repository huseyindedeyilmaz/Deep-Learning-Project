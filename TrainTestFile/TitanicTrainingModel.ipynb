{
  "cells": [
    {
      "cell_type": "code",
      "execution_count": null,
      "metadata": {
        "id": "E1MoByz160ch"
      },
      "outputs": [],
      "source": [
        "import tensorflow as tf"
      ]
    },
    {
      "cell_type": "code",
      "execution_count": null,
      "metadata": {
        "id": "tPHtbsGU61u8"
      },
      "outputs": [],
      "source": [
        "import numpy as np\n",
        "import pandas as pd\n",
        "import matplotlib.pyplot as plt"
      ]
    },
    {
      "cell_type": "code",
      "execution_count": null,
      "metadata": {
        "id": "VWFIv8X264uM"
      },
      "outputs": [],
      "source": [
        "# 'train.csv' dosyasını oku ve verileri df_train adlı bir Pandas veri çerçevesine yükle\n",
        "df_train = pd.read_csv('train.csv')"
      ]
    },
    {
      "cell_type": "code",
      "execution_count": null,
      "metadata": {
        "id": "OIyCjRVu7BVA"
      },
      "outputs": [],
      "source": [
        "# Doğrulama Seti Oluştur\n",
        "# 'test.csv' dosyasını df_valid adlı bir Pandas veri çerçevesine yükle\n",
        "df_valid = pd.read_csv('test.csv')\n",
        "\n",
        "# 'gender_submission.csv' dosyasını df_gender adlı bir Pandas veri çerçevesine yükle\n",
        "df_gender = pd.read_csv('gender_submission.csv')\n",
        "\n",
        "# df_valid ve df_gender'ı 'PassengerId' sütunu üzerinde birleştir\n",
        "df_valid = pd.merge(df_valid, df_gender, on='PassengerId')\n",
        "\n",
        "# 'Survived' sütununda eksik değerleri içeren satırları kaldır\n",
        "df_valid.dropna(subset=['Survived'], inplace=True)\n",
        "\n",
        "# 'Fare' sütununda eksik değerleri içeren satırları kaldır\n",
        "df_valid.dropna(subset=['Fare'], inplace=True)"
      ]
    },
    {
      "cell_type": "code",
      "execution_count": null,
      "metadata": {
        "id": "C_eGtjoH77Nx"
      },
      "outputs": [],
      "source": [
        "def manual_preprocess_df(df):\n",
        "    # Gereksiz sütunları (Name, PassengerId, Cabin, Ticket) kaldır\n",
        "    df = df.drop(['Name', 'PassengerId', 'Cabin', 'Ticket'], axis=1)\n",
        "\n",
        "    # 'Embarked' sütunundaki kategorik değerleri sayısal değerlere dönüştür\n",
        "    df['Embarked'] = df['Embarked'].map({\n",
        "        'C' : 0,\n",
        "        'Q' : 1,\n",
        "        'S' : 2\n",
        "    })\n",
        "\n",
        "    # 'Sex' sütunundaki cinsiyet kategorilerini sayısal değerlere dönüştür\n",
        "    df['Sex'] = df['Sex'].map({\n",
        "        'male' : 0,\n",
        "        'female' : 1\n",
        "    })\n",
        "\n",
        "    # 'Age' sütunundaki eksik değerleri sütunun ortalaması ile doldur\n",
        "    df['Age'] = df['Age'].fillna(df['Age'].mean())\n",
        "\n",
        "    # 'Embarked' sütunundaki eksik değerlere sahip satırları kaldır\n",
        "    df.dropna(subset=['Embarked'], inplace=True)\n",
        "\n",
        "    return df\n"
      ]
    },
    {
      "cell_type": "code",
      "execution_count": null,
      "metadata": {
        "id": "fUK9o6w_7900"
      },
      "outputs": [],
      "source": [
        "# Eğitim veri setini manuel olarak ön işleme fonksiyonu ile işle\n",
        "df_train = manual_preprocess_df(df_train)\n",
        "\n",
        "# Doğrulama veri setini manuel olarak ön işleme fonksiyonu ile işle\n",
        "df_valid = manual_preprocess_df(df_valid)\n"
      ]
    },
    {
      "cell_type": "code",
      "execution_count": null,
      "metadata": {
        "id": "-6YFyx3o7_A4"
      },
      "outputs": [],
      "source": [
        "# Etiket ve Veri Bölme\n",
        "def label_data_split(df):\n",
        "    # 'Survived' sütununu hedef değişken olarak ayır\n",
        "    y = df['Survived']\n",
        "\n",
        "    # 'Survived' sütununu haricindeki tüm sütunları özellik değişkenleri olarak ayır\n",
        "    x = df.loc[:, df.columns != 'Survived']\n",
        "\n",
        "    # Özellik ve etiket verilerini içeren bir demet döndür\n",
        "    return (x, y)\n"
      ]
    },
    {
      "cell_type": "code",
      "execution_count": null,
      "metadata": {
        "id": "SSFo_tDS7_mO"
      },
      "outputs": [],
      "source": [
        "# Eğitim - Test Bölme ve Karıştırma\n",
        "from sklearn.utils import shuffle\n",
        "from sklearn.model_selection import train_test_split\n",
        "\n",
        "# Eğitim veri setini karıştır\n",
        "df_train = shuffle(df_train)\n",
        "\n",
        "# Etiket ve özellik verilerini ayır\n",
        "(labels, targets) = label_data_split(df_train)\n",
        "\n",
        "# Veriyi eğitim ve test setlerine böl\n",
        "# test_size=0.33 parametresi ile verinin %33'ü test setine ayrılır\n",
        "x_train, x_test, y_train, y_test = train_test_split(labels, targets, test_size=0.33)\n"
      ]
    },
    {
      "cell_type": "code",
      "execution_count": null,
      "metadata": {
        "id": "cIB2yb__8A6W"
      },
      "outputs": [],
      "source": [
        "# Veri Ölçekleme\n",
        "from sklearn.preprocessing import StandardScaler\n",
        "\n",
        "D = 7\n",
        "\n",
        "# Özellik verilerini standart ölçekleme için bir StandardScaler nesnesine uygun hale getir\n",
        "dataScaler = StandardScaler()\n",
        "\n",
        "# Eğitim veri setini standart ölçekleme işlemine tabi tut\n",
        "x_train = dataScaler.fit_transform(x_train)\n",
        "\n",
        "# Test veri setini, eğitim veri setinde kullanılan ölçekleme parametrelerini kullanarak ölçekle\n",
        "x_test = dataScaler.transform(x_test)\n",
        "\n",
        "\n"
      ]
    },
    {
      "cell_type": "code",
      "execution_count": null,
      "metadata": {
        "id": "8eIVBo8B8Ccm",
        "colab": {
          "base_uri": "https://localhost:8080/"
        },
        "outputId": "43d85a22-2cc9-4bfd-f9db-5c61262185bb"
      },
      "outputs": [
        {
          "output_type": "stream",
          "name": "stderr",
          "text": [
            "WARNING:tensorflow:Layer lstm_9 will not use cuDNN kernels since it doesn't meet the criteria. It will use a generic GPU kernel as fallback when running on GPU.\n",
            "WARNING:tensorflow:Layer lstm_10 will not use cuDNN kernels since it doesn't meet the criteria. It will use a generic GPU kernel as fallback when running on GPU.\n",
            "WARNING:tensorflow:Layer lstm_11 will not use cuDNN kernels since it doesn't meet the criteria. It will use a generic GPU kernel as fallback when running on GPU.\n"
          ]
        }
      ],
      "source": [
        "# TF Keras Fonksiyonel API ile Model Oluşturma\n",
        "from tensorflow.keras.layers import Input, Dense, Dropout, LeakyReLU, LSTM\n",
        "from tensorflow.keras.models import Model\n",
        "\n",
        "# Giriş katmanını tanımla, özellik sayısını (D) ve giriş sinyali boyutunu (1) belirle\n",
        "i = Input(shape=(D, 1))\n",
        "\n",
        "# İlk LSTM katmanı, 32 birimli ve aktivasyonu LeakyReLU olan bir dizi dönüşle oluştur\n",
        "x = LSTM(32, return_sequences=True, activation=LeakyReLU(alpha=0.2))(i)\n",
        "x = Dropout(0.2)(x)\n",
        "\n",
        "# İkinci LSTM katmanı, 64 birimli ve aktivasyonu LeakyReLU olan bir dizi dönüşle oluştur\n",
        "x = LSTM(64, return_sequences=True, activation=LeakyReLU(alpha=0.3))(x)\n",
        "x = Dropout(0.2)(x)\n",
        "\n",
        "# Üçüncü LSTM katmanı, 128 birimli ve aktivasyonu LeakyReLU olan bir dizi dönüşle oluştur\n",
        "x = LSTM(128, activation=LeakyReLU(alpha=0.3))(x)\n",
        "x = Dropout(0.2)(x)\n",
        "\n",
        "# Tam bağlantılı (dense) çıkış katmanını tanımla, aktivasyonu sigmoid olan bir düğüm içerir\n",
        "x = Dense(1, activation='sigmoid')(x)\n",
        "\n",
        "# Modeli giriş ve çıkış katmanları kullanarak oluştur\n",
        "model = Model(i, x)\n"
      ]
    },
    {
      "cell_type": "code",
      "execution_count": null,
      "metadata": {
        "id": "UgNoMC6F8Dyx"
      },
      "outputs": [],
      "source": [
        "# Model Derleme\n",
        "from tensorflow.keras.optimizers import Adam\n",
        "\n",
        "# Modeli derle\n",
        "model.compile(\n",
        "    loss='binary_crossentropy',  # İkili sınıflandırma için çapraz entropi kaybı\n",
        "    optimizer=Adam(learning_rate=0.0011),  # Adam optimizer kullanarak öğrenme oranını belirle\n",
        "    metrics=['accuracy']  # Model performansını değerlendirmek için doğruluk metriği kullan\n",
        ")\n"
      ]
    },
    {
      "cell_type": "code",
      "execution_count": null,
      "metadata": {
        "id": "wD46he4x8FDM"
      },
      "outputs": [],
      "source": [
        "# Erken Durdurma (Early Stopping) için Ayarlar\n",
        "from tensorflow.keras.callbacks import EarlyStopping\n",
        "\n",
        "# Early Stopping callback'i oluştur\n",
        "# 'val_accuracy' metriğini izleyerek, 15 sabır (patience) süresince gelişme olmadığında eğitimi durdur\n",
        "early_stop = EarlyStopping(monitor='val_accuracy', patience=15)\n"
      ]
    },
    {
      "cell_type": "code",
      "execution_count": null,
      "metadata": {
        "colab": {
          "base_uri": "https://localhost:8080/"
        },
        "id": "sE5XQgHd8Icb",
        "outputId": "e5353693-5153-43ca-c8fc-fccd51210770"
      },
      "outputs": [
        {
          "output_type": "stream",
          "name": "stdout",
          "text": [
            "Epoch 1/150\n",
            "19/19 [==============================] - 5s 83ms/step - loss: 0.6863 - accuracy: 0.5782 - val_loss: 0.6671 - val_accuracy: 0.6395\n",
            "Epoch 2/150\n",
            "19/19 [==============================] - 1s 36ms/step - loss: 0.6713 - accuracy: 0.6067 - val_loss: 0.6509 - val_accuracy: 0.6395\n",
            "Epoch 3/150\n",
            "19/19 [==============================] - 1s 41ms/step - loss: 0.6611 - accuracy: 0.6067 - val_loss: 0.6411 - val_accuracy: 0.6395\n",
            "Epoch 4/150\n",
            "19/19 [==============================] - 1s 35ms/step - loss: 0.6493 - accuracy: 0.6034 - val_loss: 0.6278 - val_accuracy: 0.6259\n",
            "Epoch 5/150\n",
            "19/19 [==============================] - 1s 36ms/step - loss: 0.6322 - accuracy: 0.5916 - val_loss: 0.6229 - val_accuracy: 0.6633\n",
            "Epoch 6/150\n",
            "19/19 [==============================] - 1s 35ms/step - loss: 0.6176 - accuracy: 0.6303 - val_loss: 0.5872 - val_accuracy: 0.6395\n",
            "Epoch 7/150\n",
            "19/19 [==============================] - 1s 56ms/step - loss: 0.6061 - accuracy: 0.6471 - val_loss: 0.6168 - val_accuracy: 0.6803\n",
            "Epoch 8/150\n",
            "19/19 [==============================] - 1s 67ms/step - loss: 0.6052 - accuracy: 0.6504 - val_loss: 0.5774 - val_accuracy: 0.7041\n",
            "Epoch 9/150\n",
            "19/19 [==============================] - 1s 41ms/step - loss: 0.5840 - accuracy: 0.6639 - val_loss: 0.5674 - val_accuracy: 0.7109\n",
            "Epoch 10/150\n",
            "19/19 [==============================] - 1s 35ms/step - loss: 0.5823 - accuracy: 0.6773 - val_loss: 0.5723 - val_accuracy: 0.6939\n",
            "Epoch 11/150\n",
            "19/19 [==============================] - 1s 35ms/step - loss: 0.5792 - accuracy: 0.6874 - val_loss: 0.5651 - val_accuracy: 0.7041\n",
            "Epoch 12/150\n",
            "19/19 [==============================] - 1s 34ms/step - loss: 0.5755 - accuracy: 0.6874 - val_loss: 0.5585 - val_accuracy: 0.7109\n",
            "Epoch 13/150\n",
            "19/19 [==============================] - 1s 34ms/step - loss: 0.5714 - accuracy: 0.6790 - val_loss: 0.5532 - val_accuracy: 0.7041\n",
            "Epoch 14/150\n",
            "19/19 [==============================] - 1s 34ms/step - loss: 0.5644 - accuracy: 0.6824 - val_loss: 0.5601 - val_accuracy: 0.7211\n",
            "Epoch 15/150\n",
            "19/19 [==============================] - 1s 33ms/step - loss: 0.5720 - accuracy: 0.6824 - val_loss: 0.5499 - val_accuracy: 0.7109\n",
            "Epoch 16/150\n",
            "19/19 [==============================] - 1s 36ms/step - loss: 0.5636 - accuracy: 0.7059 - val_loss: 0.5620 - val_accuracy: 0.7143\n",
            "Epoch 17/150\n",
            "19/19 [==============================] - 1s 34ms/step - loss: 0.5617 - accuracy: 0.7126 - val_loss: 0.5441 - val_accuracy: 0.7245\n",
            "Epoch 18/150\n",
            "19/19 [==============================] - 1s 32ms/step - loss: 0.5573 - accuracy: 0.6958 - val_loss: 0.5338 - val_accuracy: 0.7415\n",
            "Epoch 19/150\n",
            "19/19 [==============================] - 1s 34ms/step - loss: 0.5435 - accuracy: 0.6975 - val_loss: 0.5291 - val_accuracy: 0.7109\n",
            "Epoch 20/150\n",
            "19/19 [==============================] - 1s 35ms/step - loss: 0.5101 - accuracy: 0.7311 - val_loss: 0.5270 - val_accuracy: 0.7449\n",
            "Epoch 21/150\n",
            "19/19 [==============================] - 1s 34ms/step - loss: 0.5237 - accuracy: 0.7143 - val_loss: 0.5433 - val_accuracy: 0.7279\n",
            "Epoch 22/150\n",
            "19/19 [==============================] - 1s 34ms/step - loss: 0.5282 - accuracy: 0.7328 - val_loss: 0.5535 - val_accuracy: 0.7007\n",
            "Epoch 23/150\n",
            "19/19 [==============================] - 1s 33ms/step - loss: 0.5031 - accuracy: 0.7412 - val_loss: 0.4888 - val_accuracy: 0.7653\n",
            "Epoch 24/150\n",
            "19/19 [==============================] - 1s 64ms/step - loss: 0.5078 - accuracy: 0.7378 - val_loss: 0.4937 - val_accuracy: 0.7347\n",
            "Epoch 25/150\n",
            "19/19 [==============================] - 1s 55ms/step - loss: 0.4972 - accuracy: 0.7479 - val_loss: 0.4742 - val_accuracy: 0.7925\n",
            "Epoch 26/150\n",
            "19/19 [==============================] - 1s 36ms/step - loss: 0.4824 - accuracy: 0.7782 - val_loss: 0.4924 - val_accuracy: 0.7279\n",
            "Epoch 27/150\n",
            "19/19 [==============================] - 1s 37ms/step - loss: 0.4536 - accuracy: 0.7950 - val_loss: 0.4738 - val_accuracy: 0.7755\n",
            "Epoch 28/150\n",
            "19/19 [==============================] - 1s 36ms/step - loss: 0.4714 - accuracy: 0.7899 - val_loss: 0.4858 - val_accuracy: 0.7755\n",
            "Epoch 29/150\n",
            "19/19 [==============================] - 1s 36ms/step - loss: 0.4868 - accuracy: 0.7630 - val_loss: 0.4677 - val_accuracy: 0.7959\n",
            "Epoch 30/150\n",
            "19/19 [==============================] - 1s 36ms/step - loss: 0.4674 - accuracy: 0.7798 - val_loss: 0.4691 - val_accuracy: 0.7891\n",
            "Epoch 31/150\n",
            "19/19 [==============================] - 1s 36ms/step - loss: 0.4627 - accuracy: 0.7849 - val_loss: 0.4698 - val_accuracy: 0.7925\n",
            "Epoch 32/150\n",
            "19/19 [==============================] - 1s 34ms/step - loss: 0.4574 - accuracy: 0.7899 - val_loss: 0.4643 - val_accuracy: 0.7925\n",
            "Epoch 33/150\n",
            "19/19 [==============================] - 1s 36ms/step - loss: 0.4494 - accuracy: 0.8118 - val_loss: 0.4706 - val_accuracy: 0.7959\n",
            "Epoch 34/150\n",
            "19/19 [==============================] - 1s 35ms/step - loss: 0.4616 - accuracy: 0.7882 - val_loss: 0.4637 - val_accuracy: 0.7959\n",
            "Epoch 35/150\n",
            "19/19 [==============================] - 1s 33ms/step - loss: 0.4530 - accuracy: 0.8034 - val_loss: 0.4654 - val_accuracy: 0.8061\n",
            "Epoch 36/150\n",
            "19/19 [==============================] - 1s 34ms/step - loss: 0.4604 - accuracy: 0.7866 - val_loss: 0.4628 - val_accuracy: 0.7925\n",
            "Epoch 37/150\n",
            "19/19 [==============================] - 1s 32ms/step - loss: 0.4546 - accuracy: 0.7882 - val_loss: 0.4568 - val_accuracy: 0.8095\n",
            "Epoch 38/150\n",
            "19/19 [==============================] - 1s 34ms/step - loss: 0.4401 - accuracy: 0.8034 - val_loss: 0.4608 - val_accuracy: 0.8061\n",
            "Epoch 39/150\n",
            "19/19 [==============================] - 1s 33ms/step - loss: 0.4446 - accuracy: 0.8034 - val_loss: 0.4573 - val_accuracy: 0.8129\n",
            "Epoch 40/150\n",
            "19/19 [==============================] - 1s 42ms/step - loss: 0.4441 - accuracy: 0.7950 - val_loss: 0.4553 - val_accuracy: 0.7891\n",
            "Epoch 41/150\n",
            "19/19 [==============================] - 1s 68ms/step - loss: 0.4438 - accuracy: 0.7933 - val_loss: 0.4542 - val_accuracy: 0.7925\n",
            "Epoch 42/150\n",
            "19/19 [==============================] - 1s 38ms/step - loss: 0.4533 - accuracy: 0.7916 - val_loss: 0.4548 - val_accuracy: 0.8129\n",
            "Epoch 43/150\n",
            "19/19 [==============================] - 1s 33ms/step - loss: 0.4426 - accuracy: 0.8000 - val_loss: 0.4540 - val_accuracy: 0.8163\n",
            "Epoch 44/150\n",
            "19/19 [==============================] - 1s 34ms/step - loss: 0.4432 - accuracy: 0.8017 - val_loss: 0.4537 - val_accuracy: 0.7857\n",
            "Epoch 45/150\n",
            "19/19 [==============================] - 1s 33ms/step - loss: 0.4490 - accuracy: 0.7899 - val_loss: 0.4564 - val_accuracy: 0.7891\n",
            "Epoch 46/150\n",
            "19/19 [==============================] - 1s 35ms/step - loss: 0.4462 - accuracy: 0.8017 - val_loss: 0.4542 - val_accuracy: 0.8163\n",
            "Epoch 47/150\n",
            "19/19 [==============================] - 1s 36ms/step - loss: 0.4333 - accuracy: 0.8017 - val_loss: 0.4508 - val_accuracy: 0.7925\n",
            "Epoch 48/150\n",
            "19/19 [==============================] - 1s 32ms/step - loss: 0.4371 - accuracy: 0.7966 - val_loss: 0.4519 - val_accuracy: 0.8163\n",
            "Epoch 49/150\n",
            "19/19 [==============================] - 1s 34ms/step - loss: 0.4361 - accuracy: 0.8017 - val_loss: 0.4538 - val_accuracy: 0.8129\n",
            "Epoch 50/150\n",
            "19/19 [==============================] - 1s 33ms/step - loss: 0.4440 - accuracy: 0.7966 - val_loss: 0.4503 - val_accuracy: 0.8129\n",
            "Epoch 51/150\n",
            "19/19 [==============================] - 1s 34ms/step - loss: 0.4285 - accuracy: 0.8034 - val_loss: 0.4449 - val_accuracy: 0.8129\n",
            "Epoch 52/150\n",
            "19/19 [==============================] - 1s 37ms/step - loss: 0.4256 - accuracy: 0.8084 - val_loss: 0.4429 - val_accuracy: 0.7925\n",
            "Epoch 53/150\n",
            "19/19 [==============================] - 1s 37ms/step - loss: 0.4236 - accuracy: 0.8067 - val_loss: 0.4488 - val_accuracy: 0.8129\n",
            "Epoch 54/150\n",
            "19/19 [==============================] - 1s 36ms/step - loss: 0.4281 - accuracy: 0.8050 - val_loss: 0.4669 - val_accuracy: 0.8129\n",
            "Epoch 55/150\n",
            "19/19 [==============================] - 1s 36ms/step - loss: 0.4456 - accuracy: 0.7950 - val_loss: 0.4522 - val_accuracy: 0.8163\n",
            "Epoch 56/150\n",
            "19/19 [==============================] - 1s 35ms/step - loss: 0.4242 - accuracy: 0.8134 - val_loss: 0.4426 - val_accuracy: 0.7993\n",
            "Epoch 57/150\n",
            "19/19 [==============================] - 1s 59ms/step - loss: 0.4355 - accuracy: 0.8084 - val_loss: 0.4468 - val_accuracy: 0.8231\n",
            "Epoch 58/150\n",
            "19/19 [==============================] - 1s 61ms/step - loss: 0.4174 - accuracy: 0.8118 - val_loss: 0.4392 - val_accuracy: 0.8231\n",
            "Epoch 59/150\n",
            "19/19 [==============================] - 1s 33ms/step - loss: 0.4155 - accuracy: 0.8101 - val_loss: 0.4415 - val_accuracy: 0.8095\n",
            "Epoch 60/150\n",
            "19/19 [==============================] - 1s 34ms/step - loss: 0.4175 - accuracy: 0.8101 - val_loss: 0.4340 - val_accuracy: 0.8197\n",
            "Epoch 61/150\n",
            "19/19 [==============================] - 1s 35ms/step - loss: 0.4169 - accuracy: 0.8084 - val_loss: 0.4377 - val_accuracy: 0.8197\n",
            "Epoch 62/150\n",
            "19/19 [==============================] - 1s 34ms/step - loss: 0.4250 - accuracy: 0.8118 - val_loss: 0.4369 - val_accuracy: 0.8197\n",
            "Epoch 63/150\n",
            "19/19 [==============================] - 1s 34ms/step - loss: 0.4121 - accuracy: 0.8134 - val_loss: 0.4423 - val_accuracy: 0.8265\n",
            "Epoch 64/150\n",
            "19/19 [==============================] - 1s 34ms/step - loss: 0.3984 - accuracy: 0.8235 - val_loss: 0.4425 - val_accuracy: 0.8197\n",
            "Epoch 65/150\n",
            "19/19 [==============================] - 1s 34ms/step - loss: 0.4090 - accuracy: 0.8151 - val_loss: 0.4391 - val_accuracy: 0.8265\n",
            "Epoch 66/150\n",
            "19/19 [==============================] - 1s 34ms/step - loss: 0.4066 - accuracy: 0.8185 - val_loss: 0.4462 - val_accuracy: 0.8163\n",
            "Epoch 67/150\n",
            "19/19 [==============================] - 1s 33ms/step - loss: 0.4055 - accuracy: 0.8202 - val_loss: 0.4770 - val_accuracy: 0.8231\n",
            "Epoch 68/150\n",
            "19/19 [==============================] - 1s 35ms/step - loss: 0.4115 - accuracy: 0.8218 - val_loss: 0.4357 - val_accuracy: 0.8197\n",
            "Epoch 69/150\n",
            "19/19 [==============================] - 1s 36ms/step - loss: 0.4069 - accuracy: 0.8218 - val_loss: 0.4384 - val_accuracy: 0.8197\n",
            "Epoch 70/150\n",
            "19/19 [==============================] - 1s 33ms/step - loss: 0.3962 - accuracy: 0.8286 - val_loss: 0.4342 - val_accuracy: 0.8197\n",
            "Epoch 71/150\n",
            "19/19 [==============================] - 1s 33ms/step - loss: 0.4071 - accuracy: 0.8286 - val_loss: 0.4380 - val_accuracy: 0.8197\n",
            "Epoch 72/150\n",
            "19/19 [==============================] - 1s 34ms/step - loss: 0.4095 - accuracy: 0.8202 - val_loss: 0.4347 - val_accuracy: 0.8231\n",
            "Epoch 73/150\n",
            "19/19 [==============================] - 1s 35ms/step - loss: 0.4105 - accuracy: 0.8202 - val_loss: 0.4330 - val_accuracy: 0.8231\n",
            "Epoch 74/150\n",
            "19/19 [==============================] - 1s 62ms/step - loss: 0.3969 - accuracy: 0.8303 - val_loss: 0.4290 - val_accuracy: 0.8197\n",
            "Epoch 75/150\n",
            "19/19 [==============================] - 1s 58ms/step - loss: 0.3960 - accuracy: 0.8286 - val_loss: 0.4322 - val_accuracy: 0.8163\n",
            "Epoch 76/150\n",
            "19/19 [==============================] - 1s 35ms/step - loss: 0.4060 - accuracy: 0.8168 - val_loss: 0.4313 - val_accuracy: 0.8231\n",
            "Epoch 77/150\n",
            "19/19 [==============================] - 1s 36ms/step - loss: 0.3935 - accuracy: 0.8286 - val_loss: 0.4289 - val_accuracy: 0.8163\n",
            "Epoch 78/150\n",
            "19/19 [==============================] - 1s 36ms/step - loss: 0.4045 - accuracy: 0.8303 - val_loss: 0.4277 - val_accuracy: 0.8163\n"
          ]
        }
      ],
      "source": [
        "# Model Eğitimi\n",
        "r = model.fit(\n",
        "    x_train,                 # Eğitim verisi\n",
        "    y_train,                 # Eğitim etiketleri\n",
        "    validation_data=(x_test, y_test),  # Doğrulama verisi\n",
        "    epochs=150,              # Toplam eğitim döngüsü sayısı\n",
        "    callbacks=[early_stop]   # Erken Durdurma callback'i kullanarak eğitimi kontrol et\n",
        ")\n"
      ]
    },
    {
      "cell_type": "code",
      "execution_count": null,
      "metadata": {
        "colab": {
          "base_uri": "https://localhost:8080/",
          "height": 451
        },
        "id": "dco6_eZE8JxG",
        "outputId": "0667f138-3a34-47ed-cd7b-7cf7df72016d"
      },
      "outputs": [
        {
          "output_type": "execute_result",
          "data": {
            "text/plain": [
              "<matplotlib.legend.Legend at 0x7e81b3e34af0>"
            ]
          },
          "metadata": {},
          "execution_count": 154
        },
        {
          "output_type": "display_data",
          "data": {
            "text/plain": [
              "<Figure size 640x480 with 1 Axes>"
            ],
            "image/png": "[encoded data removed]"
          },
          "metadata": {}
        }
      ],
      "source": [
        "# Kayıp (Loss) Grafiği Çizimi\n",
        "plt.plot(r.history['loss'], label='loss')          # Eğitim seti kaybını çiz\n",
        "plt.plot(r.history['val_loss'], label='val_loss')  # Doğrulama seti kaybını çiz\n",
        "\n",
        "# Grafikteki çizgileri açıklamak için etiket ekle\n",
        "plt.legend()\n"
      ]
    },
    {
      "cell_type": "code",
      "execution_count": null,
      "metadata": {
        "colab": {
          "base_uri": "https://localhost:8080/",
          "height": 447
        },
        "id": "OQMkDJtH8LR5",
        "outputId": "c7989248-453e-4ba3-d0f9-12fb694e0fd5"
      },
      "outputs": [
        {
          "output_type": "execute_result",
          "data": {
            "text/plain": [
              "<matplotlib.legend.Legend at 0x7e81a0008610>"
            ]
          },
          "metadata": {},
          "execution_count": 155
        },
        {
          "output_type": "display_data",
          "data": {
            "text/plain": [
              "<Figure size 640x480 with 1 Axes>"
            ],
            "image/png": "[encoded data removed]"
          },
          "metadata": {}
        }
      ],
      "source": [
        "# Doğruluk (Accuracy) Grafiği Çizimi\n",
        "plt.plot(r.history['accuracy'], label='accuracy')          # Eğitim seti doğruluğunu çiz\n",
        "plt.plot(r.history['val_accuracy'], label='val_accuracy')  # Doğrulama seti doğruluğunu çiz\n",
        "\n",
        "# Grafikteki çizgileri açıklamak için etiket ekle\n",
        "plt.legend()\n"
      ]
    },
    {
      "cell_type": "code",
      "execution_count": null,
      "metadata": {
        "colab": {
          "base_uri": "https://localhost:8080/"
        },
        "id": "Xbp7zb1l8MdW",
        "outputId": "442a00d9-e300-4164-9d1b-a3e79d2419ad"
      },
      "outputs": [
        {
          "output_type": "stream",
          "name": "stdout",
          "text": [
            "10/10 [==============================] - 0s 5ms/step - loss: 0.4277 - accuracy: 0.8163\n"
          ]
        }
      ],
      "source": [
        "# Eğitim Verisi ile Model Değerlendirme\n",
        "split_evals = model.evaluate(\n",
        "    x_test,  # Eğitim veri seti\n",
        "    y_test   # Eğitim etiketleri\n",
        ")\n"
      ]
    },
    {
      "cell_type": "code",
      "execution_count": null,
      "metadata": {
        "colab": {
          "base_uri": "https://localhost:8080/"
        },
        "id": "9uze-Zeq8Ooy",
        "outputId": "aa73acf4-3fa9-474e-c3db-5b528229fb8f"
      },
      "outputs": [
        {
          "output_type": "stream",
          "name": "stdout",
          "text": [
            "14/14 [==============================] - 0s 5ms/step - loss: 0.3118 - accuracy: 0.9305\n"
          ]
        }
      ],
      "source": [
        "# Birleştirilmiş Gönderim Örneği ile Model Değerlendirme\n",
        "(x_valid, y_valid) = label_data_split(df_valid)  # Birleştirilmiş gönderim örneği için etiket ve özellik verilerini ayır\n",
        "\n",
        "x_valid = dataScaler.transform(x_valid)  # Veriyi ölçeklendir\n",
        "\n",
        "merged_evals = model.evaluate(\n",
        "    x_valid,  # Birleştirilmiş gönderim örneği için özellik verileri\n",
        "    y_valid   # Birleştirilmiş gönderim örneği için etiket verileri\n",
        ")\n"
      ]
    },
    {
      "cell_type": "code",
      "execution_count": null,
      "metadata": {
        "colab": {
          "base_uri": "https://localhost:8080/",
          "height": 447
        },
        "id": "1zQxfCyL8QQj",
        "outputId": "3075b018-c2dd-437a-c7f8-8d2a86698a14"
      },
      "outputs": [
        {
          "output_type": "execute_result",
          "data": {
            "text/plain": [
              "<BarContainer object of 4 artists>"
            ]
          },
          "metadata": {},
          "execution_count": 158
        },
        {
          "output_type": "display_data",
          "data": {
            "text/plain": [
              "<Figure size 640x480 with 1 Axes>"
            ],
            "image/png": "[encoded data removed]"
          },
          "metadata": {}
        }
      ],
      "source": [
        "# Performans Karşılaştırması Çubuk Grafiği Çizimi\n",
        "labels = [\"Bölünmüş Veri Seti Kaybı\", \"Birleştirilmiş Veri Seti Kaybı\", \"Bölünmüş Veri Seti Doğruluğu\", \"Birleştirilmiş Veri Seti Doğruluğu\"]\n",
        "values = [split_evals[0], merged_evals[0], split_evals[1], merged_evals[1]]\n",
        "\n",
        "# Çubuk grafiği çiz\n",
        "plt.bar(labels, values)\n"
      ]
    },
    {
      "cell_type": "code",
      "execution_count": null,
      "metadata": {
        "id": "65K6wm2a8QPd"
      },
      "outputs": [],
      "source": [
        "# Tahmin İçin Test Veri Setini Okuma\n",
        "prediction_df = pd.read_csv('test.csv')\n"
      ]
    },
    {
      "cell_type": "code",
      "execution_count": null,
      "metadata": {
        "id": "5G9JIic2E_fD"
      },
      "outputs": [],
      "source": [
        "# Tahmin İçin Veriyi Manuel Olarak Ön İşleme\n",
        "prediction_df_processed = manual_preprocess_df(prediction_df)\n"
      ]
    },
    {
      "cell_type": "code",
      "execution_count": null,
      "metadata": {
        "id": "HeQwpPxhFECG"
      },
      "outputs": [],
      "source": [
        "# 'Fare' Sütunundaki Eksik Değerleri Ortalama ile Doldurma\n",
        "prediction_df_processed['Fare'] = prediction_df_processed['Fare'].fillna(prediction_df_processed['Fare'].mean())\n"
      ]
    },
    {
      "cell_type": "code",
      "execution_count": null,
      "metadata": {
        "id": "hY7SYkyPFF9J"
      },
      "outputs": [],
      "source": [
        "# Tahmin İçin Veriyi Ölçekleme\n",
        "x_prediction = dataScaler.transform(prediction_df_processed)\n"
      ]
    },
    {
      "cell_type": "code",
      "execution_count": null,
      "metadata": {
        "colab": {
          "base_uri": "https://localhost:8080/"
        },
        "id": "p1YOum8RFH5d",
        "outputId": "04a1e7ea-470e-4f40-9867-22fdf1688591"
      },
      "outputs": [
        {
          "output_type": "stream",
          "name": "stdout",
          "text": [
            "14/14 [==============================] - 0s 5ms/step\n"
          ]
        }
      ],
      "source": [
        "# Modelin Tahmin Yapması\n",
        "predictions = model.predict(\n",
        "    x_prediction\n",
        ")\n"
      ]
    },
    {
      "cell_type": "code",
      "source": [
        "# 'df_gender' Veri Çerçevesinden Etiketleri Alma\n",
        "labels = df_gender.to_numpy()[:, 1]\n"
      ],
      "metadata": {
        "id": "9CAH4aXa0Ao5"
      },
      "execution_count": null,
      "outputs": []
    },
    {
      "cell_type": "code",
      "source": [
        "# Tahmin Sonuçlarını Düzleştirme\n",
        "pred = predictions.flatten()\n"
      ],
      "metadata": {
        "id": "spqeGkYo1MGN"
      },
      "execution_count": null,
      "outputs": []
    },
    {
      "cell_type": "code",
      "source": [
        "# ROC Eğrisi Çizimi ve Eşik Değerlerinin Gösterimi\n",
        "from sklearn.metrics import roc_curve\n",
        "import matplotlib.pyplot as plt\n",
        "\n",
        "# Roc eğrisi için false positive (fp), true positive (tp) ve eşik değerlerini hesapla\n",
        "fp, tp, threshold = roc_curve(labels, pred)\n",
        "\n",
        "# Roc eğrisini çiz\n",
        "plt.plot(fp, tp)\n",
        "plt.xlabel(\"False Positive Oranı\")\n",
        "plt.ylabel(\"True Positive Oranı\")\n",
        "\n",
        "# Eşik değerlerini belirli aralıklarla eğri üzerinde göster\n",
        "skip = 8\n",
        "for i in range(0, len(threshold), skip):\n",
        "    plt.text(fp[i], tp[i], f'Threshold: {threshold[i]:.3f}')\n",
        "\n",
        "# Izgara ekleyerek daha iyi okunabilirlik sağla\n",
        "plt.grid()\n",
        "plt.show()\n"
      ],
      "metadata": {
        "colab": {
          "base_uri": "https://localhost:8080/",
          "height": 449
        },
        "id": "0ou3MoFy0z3d",
        "outputId": "2ac3e4bb-5fa1-48c3-ebff-405e89c18fd7"
      },
      "execution_count": null,
      "outputs": [
        {
          "output_type": "display_data",
          "data": {
            "text/plain": [
              "<Figure size 640x480 with 1 Axes>"
            ],
            "image/png": "[encoded data removed]"
          },
          "metadata": {}
        }
      ]
    },
    {
      "cell_type": "code",
      "source": [
        "# Karışıklık Matrisi Hesaplama ve Isı Haritası Oluşturma\n",
        "from sklearn.metrics import confusion_matrix\n",
        "import seaborn as sns\n",
        "\n",
        "# Belirlenen eşik değeri ile karışıklık matrisini hesapla\n",
        "threshold = 0.453\n",
        "cm = confusion_matrix(labels, pred > threshold)\n",
        "\n",
        "# Karışıklık matrisini ekrana yazdır\n",
        "print(cm)\n",
        "\n",
        "# Seaborn kütüphanesi kullanarak karışıklık matrisini ısı haritası olarak çiz\n",
        "sns.heatmap(cm, annot=True)\n",
        "\n"
      ],
      "metadata": {
        "colab": {
          "base_uri": "https://localhost:8080/",
          "height": 482
        },
        "id": "pOkniPc8xmeu",
        "outputId": "85c9f026-8712-483e-cc88-3a04756c7d1b"
      },
      "execution_count": null,
      "outputs": [
        {
          "output_type": "stream",
          "name": "stdout",
          "text": [
            "[[257   9]\n",
            " [ 15 137]]\n"
          ]
        },
        {
          "output_type": "execute_result",
          "data": {
            "text/plain": [
              "<Axes: >"
            ]
          },
          "metadata": {},
          "execution_count": 195
        },
        {
          "output_type": "display_data",
          "data": {
            "text/plain": [
              "<Figure size 640x480 with 2 Axes>"
            ],
            "image/png": "[encoded data removed]"
          },
          "metadata": {}
        }
      ]
    },
    {
      "cell_type": "code",
      "source": [
        "# F1 Skoru Hesaplama\n",
        "from sklearn.metrics import f1_score\n",
        "\n",
        "# Belirlenen eşik değeri ile F1 skorunu hesapla\n",
        "score = f1_score(labels, pred > threshold)\n",
        "\n",
        "# Hesaplanan F1 skorunu ekrana yazdır\n",
        "score\n"
      ],
      "metadata": {
        "colab": {
          "base_uri": "https://localhost:8080/"
        },
        "id": "qgC79pa74Xj7",
        "outputId": "090b9cf2-3f46-442a-c14d-62555d1d725a"
      },
      "execution_count": null,
      "outputs": [
        {
          "output_type": "execute_result",
          "data": {
            "text/plain": [
              "0.9194630872483222"
            ]
          },
          "metadata": {},
          "execution_count": 196
        }
      ]
    },
    {
      "cell_type": "code",
      "execution_count": null,
      "metadata": {
        "colab": {
          "base_uri": "https://localhost:8080/",
          "height": 206
        },
        "id": "WzKsT5EWFITg",
        "outputId": "531c59fe-6308-498b-df0e-b3ecf08629aa"
      },
      "outputs": [
        {
          "output_type": "execute_result",
          "data": {
            "text/plain": [
              "   PassengerId  Pclass                                          Name     Sex  \\\n",
              "0          892       3                              Kelly, Mr. James    male   \n",
              "1          893       3              Wilkes, Mrs. James (Ellen Needs)  female   \n",
              "2          894       2                     Myles, Mr. Thomas Francis    male   \n",
              "3          895       3                              Wirz, Mr. Albert    male   \n",
              "4          896       3  Hirvonen, Mrs. Alexander (Helga E Lindqvist)  female   \n",
              "\n",
              "    Age  SibSp  Parch   Ticket     Fare Cabin Embarked  Survived  \n",
              "0  34.5      0      0   330911   7.8292   NaN        Q         0  \n",
              "1  47.0      1      0   363272   7.0000   NaN        S         0  \n",
              "2  62.0      0      0   240276   9.6875   NaN        Q         0  \n",
              "3  27.0      0      0   315154   8.6625   NaN        S         0  \n",
              "4  22.0      1      1  3101298  12.2875   NaN        S         1  "
            ],
            "text/html": [
              "\n",
              "  <div id=\"df-a827ec69-1774-4f4f-a1c0-395a5c119054\" class=\"colab-df-container\">\n",
              "    <div>\n",
              "<style scoped>\n",
              "    .dataframe tbody tr th:only-of-type {\n",
              "        vertical-align: middle;\n",
              "    }\n",
              "\n",
              "    .dataframe tbody tr th {\n",
              "        vertical-align: top;\n",
              "    }\n",
              "\n",
              "    .dataframe thead th {\n",
              "        text-align: right;\n",
              "    }\n",
              "</style>\n",
              "<table border=\"1\" class=\"dataframe\">\n",
              "  <thead>\n",
              "    <tr style=\"text-align: right;\">\n",
              "      <th></th>\n",
              "      <th>PassengerId</th>\n",
              "      <th>Pclass</th>\n",
              "      <th>Name</th>\n",
              "      <th>Sex</th>\n",
              "      <th>Age</th>\n",
              "      <th>SibSp</th>\n",
              "      <th>Parch</th>\n",
              "      <th>Ticket</th>\n",
              "      <th>Fare</th>\n",
              "      <th>Cabin</th>\n",
              "      <th>Embarked</th>\n",
              "      <th>Survived</th>\n",
              "    </tr>\n",
              "  </thead>\n",
              "  <tbody>\n",
              "    <tr>\n",
              "      <th>0</th>\n",
              "      <td>892</td>\n",
              "      <td>3</td>\n",
              "      <td>Kelly, Mr. James</td>\n",
              "      <td>male</td>\n",
              "      <td>34.5</td>\n",
              "      <td>0</td>\n",
              "      <td>0</td>\n",
              "      <td>330911</td>\n",
              "      <td>7.8292</td>\n",
              "      <td>NaN</td>\n",
              "      <td>Q</td>\n",
              "      <td>0</td>\n",
              "    </tr>\n",
              "    <tr>\n",
              "      <th>1</th>\n",
              "      <td>893</td>\n",
              "      <td>3</td>\n",
              "      <td>Wilkes, Mrs. James (Ellen Needs)</td>\n",
              "      <td>female</td>\n",
              "      <td>47.0</td>\n",
              "      <td>1</td>\n",
              "      <td>0</td>\n",
              "      <td>363272</td>\n",
              "      <td>7.0000</td>\n",
              "      <td>NaN</td>\n",
              "      <td>S</td>\n",
              "      <td>0</td>\n",
              "    </tr>\n",
              "    <tr>\n",
              "      <th>2</th>\n",
              "      <td>894</td>\n",
              "      <td>2</td>\n",
              "      <td>Myles, Mr. Thomas Francis</td>\n",
              "      <td>male</td>\n",
              "      <td>62.0</td>\n",
              "      <td>0</td>\n",
              "      <td>0</td>\n",
              "      <td>240276</td>\n",
              "      <td>9.6875</td>\n",
              "      <td>NaN</td>\n",
              "      <td>Q</td>\n",
              "      <td>0</td>\n",
              "    </tr>\n",
              "    <tr>\n",
              "      <th>3</th>\n",
              "      <td>895</td>\n",
              "      <td>3</td>\n",
              "      <td>Wirz, Mr. Albert</td>\n",
              "      <td>male</td>\n",
              "      <td>27.0</td>\n",
              "      <td>0</td>\n",
              "      <td>0</td>\n",
              "      <td>315154</td>\n",
              "      <td>8.6625</td>\n",
              "      <td>NaN</td>\n",
              "      <td>S</td>\n",
              "      <td>0</td>\n",
              "    </tr>\n",
              "    <tr>\n",
              "      <th>4</th>\n",
              "      <td>896</td>\n",
              "      <td>3</td>\n",
              "      <td>Hirvonen, Mrs. Alexander (Helga E Lindqvist)</td>\n",
              "      <td>female</td>\n",
              "      <td>22.0</td>\n",
              "      <td>1</td>\n",
              "      <td>1</td>\n",
              "      <td>3101298</td>\n",
              "      <td>12.2875</td>\n",
              "      <td>NaN</td>\n",
              "      <td>S</td>\n",
              "      <td>1</td>\n",
              "    </tr>\n",
              "  </tbody>\n",
              "</table>\n",
              "</div>\n",
              "    <div class=\"colab-df-buttons\">\n",
              "\n",
              "  <div class=\"colab-df-container\">\n",
              "    <button class=\"colab-df-convert\" onclick=\"convertToInteractive('df-a827ec69-1774-4f4f-a1c0-395a5c119054')\"\n",
              "            title=\"Convert this dataframe to an interactive table.\"\n",
              "            style=\"display:none;\">\n",
              "\n",
              "  <svg xmlns=\"http://www.w3.org/2000/svg\" height=\"24px\" viewBox=\"0 -960 960 960\">\n",
              "    <path d=\"M120-120v-720h720v720H120Zm60-500h600v-160H180v160Zm220 220h160v-160H400v160Zm0 220h160v-160H400v160ZM180-400h160v-160H180v160Zm440 0h160v-160H620v160ZM180-180h160v-160H180v160Zm440 0h160v-160H620v160Z\"/>\n",
              "  </svg>\n",
              "    </button>\n",
              "\n",
              "  <style>\n",
              "    .colab-df-container {\n",
              "      display:flex;\n",
              "      gap: 12px;\n",
              "    }\n",
              "\n",
              "    .colab-df-convert {\n",
              "      background-color: #E8F0FE;\n",
              "      border: none;\n",
              "      border-radius: 50%;\n",
              "      cursor: pointer;\n",
              "      display: none;\n",
              "      fill: #1967D2;\n",
              "      height: 32px;\n",
              "      padding: 0 0 0 0;\n",
              "      width: 32px;\n",
              "    }\n",
              "\n",
              "    .colab-df-convert:hover {\n",
              "      background-color: #E2EBFA;\n",
              "      box-shadow: 0px 1px 2px rgba(60, 64, 67, 0.3), 0px 1px 3px 1px rgba(60, 64, 67, 0.15);\n",
              "      fill: #174EA6;\n",
              "    }\n",
              "\n",
              "    .colab-df-buttons div {\n",
              "      margin-bottom: 4px;\n",
              "    }\n",
              "\n",
              "    [theme=dark] .colab-df-convert {\n",
              "      background-color: #3B4455;\n",
              "      fill: #D2E3FC;\n",
              "    }\n",
              "\n",
              "    [theme=dark] .colab-df-convert:hover {\n",
              "      background-color: #434B5C;\n",
              "      box-shadow: 0px 1px 3px 1px rgba(0, 0, 0, 0.15);\n",
              "      filter: drop-shadow(0px 1px 2px rgba(0, 0, 0, 0.3));\n",
              "      fill: #FFFFFF;\n",
              "    }\n",
              "  </style>\n",
              "\n",
              "    <script>\n",
              "      const buttonEl =\n",
              "        document.querySelector('#df-a827ec69-1774-4f4f-a1c0-395a5c119054 button.colab-df-convert');\n",
              "      buttonEl.style.display =\n",
              "        google.colab.kernel.accessAllowed ? 'block' : 'none';\n",
              "\n",
              "      async function convertToInteractive(key) {\n",
              "        const element = document.querySelector('#df-a827ec69-1774-4f4f-a1c0-395a5c119054');\n",
              "        const dataTable =\n",
              "          await google.colab.kernel.invokeFunction('convertToInteractive',\n",
              "                                                    [key], {});\n",
              "        if (!dataTable) return;\n",
              "\n",
              "        const docLinkHtml = 'Like what you see? Visit the ' +\n",
              "          '<a target=\"_blank\" href=https://colab.research.google.com/notebooks/data_table.ipynb>data table notebook</a>'\n",
              "          + ' to learn more about interactive tables.';\n",
              "        element.innerHTML = '';\n",
              "        dataTable['output_type'] = 'display_data';\n",
              "        await google.colab.output.renderOutput(dataTable, element);\n",
              "        const docLink = document.createElement('div');\n",
              "        docLink.innerHTML = docLinkHtml;\n",
              "        element.appendChild(docLink);\n",
              "      }\n",
              "    </script>\n",
              "  </div>\n",
              "\n",
              "\n",
              "<div id=\"df-936926b7-c066-47eb-85ba-47a938216aa6\">\n",
              "  <button class=\"colab-df-quickchart\" onclick=\"quickchart('df-936926b7-c066-47eb-85ba-47a938216aa6')\"\n",
              "            title=\"Suggest charts\"\n",
              "            style=\"display:none;\">\n",
              "\n",
              "<svg xmlns=\"http://www.w3.org/2000/svg\" height=\"24px\"viewBox=\"0 0 24 24\"\n",
              "     width=\"24px\">\n",
              "    <g>\n",
              "        <path d=\"M19 3H5c-1.1 0-2 .9-2 2v14c0 1.1.9 2 2 2h14c1.1 0 2-.9 2-2V5c0-1.1-.9-2-2-2zM9 17H7v-7h2v7zm4 0h-2V7h2v10zm4 0h-2v-4h2v4z\"/>\n",
              "    </g>\n",
              "</svg>\n",
              "  </button>\n",
              "\n",
              "<style>\n",
              "  .colab-df-quickchart {\n",
              "      --bg-color: #E8F0FE;\n",
              "      --fill-color: #1967D2;\n",
              "      --hover-bg-color: #E2EBFA;\n",
              "      --hover-fill-color: #174EA6;\n",
              "      --disabled-fill-color: #AAA;\n",
              "      --disabled-bg-color: #DDD;\n",
              "  }\n",
              "\n",
              "  [theme=dark] .colab-df-quickchart {\n",
              "      --bg-color: #3B4455;\n",
              "      --fill-color: #D2E3FC;\n",
              "      --hover-bg-color: #434B5C;\n",
              "      --hover-fill-color: #FFFFFF;\n",
              "      --disabled-bg-color: #3B4455;\n",
              "      --disabled-fill-color: #666;\n",
              "  }\n",
              "\n",
              "  .colab-df-quickchart {\n",
              "    background-color: var(--bg-color);\n",
              "    border: none;\n",
              "    border-radius: 50%;\n",
              "    cursor: pointer;\n",
              "    display: none;\n",
              "    fill: var(--fill-color);\n",
              "    height: 32px;\n",
              "    padding: 0;\n",
              "    width: 32px;\n",
              "  }\n",
              "\n",
              "  .colab-df-quickchart:hover {\n",
              "    background-color: var(--hover-bg-color);\n",
              "    box-shadow: 0 1px 2px rgba(60, 64, 67, 0.3), 0 1px 3px 1px rgba(60, 64, 67, 0.15);\n",
              "    fill: var(--button-hover-fill-color);\n",
              "  }\n",
              "\n",
              "  .colab-df-quickchart-complete:disabled,\n",
              "  .colab-df-quickchart-complete:disabled:hover {\n",
              "    background-color: var(--disabled-bg-color);\n",
              "    fill: var(--disabled-fill-color);\n",
              "    box-shadow: none;\n",
              "  }\n",
              "\n",
              "  .colab-df-spinner {\n",
              "    border: 2px solid var(--fill-color);\n",
              "    border-color: transparent;\n",
              "    border-bottom-color: var(--fill-color);\n",
              "    animation:\n",
              "      spin 1s steps(1) infinite;\n",
              "  }\n",
              "\n",
              "  @keyframes spin {\n",
              "    0% {\n",
              "      border-color: transparent;\n",
              "      border-bottom-color: var(--fill-color);\n",
              "      border-left-color: var(--fill-color);\n",
              "    }\n",
              "    20% {\n",
              "      border-color: transparent;\n",
              "      border-left-color: var(--fill-color);\n",
              "      border-top-color: var(--fill-color);\n",
              "    }\n",
              "    30% {\n",
              "      border-color: transparent;\n",
              "      border-left-color: var(--fill-color);\n",
              "      border-top-color: var(--fill-color);\n",
              "      border-right-color: var(--fill-color);\n",
              "    }\n",
              "    40% {\n",
              "      border-color: transparent;\n",
              "      border-right-color: var(--fill-color);\n",
              "      border-top-color: var(--fill-color);\n",
              "    }\n",
              "    60% {\n",
              "      border-color: transparent;\n",
              "      border-right-color: var(--fill-color);\n",
              "    }\n",
              "    80% {\n",
              "      border-color: transparent;\n",
              "      border-right-color: var(--fill-color);\n",
              "      border-bottom-color: var(--fill-color);\n",
              "    }\n",
              "    90% {\n",
              "      border-color: transparent;\n",
              "      border-bottom-color: var(--fill-color);\n",
              "    }\n",
              "  }\n",
              "</style>\n",
              "\n",
              "  <script>\n",
              "    async function quickchart(key) {\n",
              "      const quickchartButtonEl =\n",
              "        document.querySelector('#' + key + ' button');\n",
              "      quickchartButtonEl.disabled = true;  // To prevent multiple clicks.\n",
              "      quickchartButtonEl.classList.add('colab-df-spinner');\n",
              "      try {\n",
              "        const charts = await google.colab.kernel.invokeFunction(\n",
              "            'suggestCharts', [key], {});\n",
              "      } catch (error) {\n",
              "        console.error('Error during call to suggestCharts:', error);\n",
              "      }\n",
              "      quickchartButtonEl.classList.remove('colab-df-spinner');\n",
              "      quickchartButtonEl.classList.add('colab-df-quickchart-complete');\n",
              "    }\n",
              "    (() => {\n",
              "      let quickchartButtonEl =\n",
              "        document.querySelector('#df-936926b7-c066-47eb-85ba-47a938216aa6 button');\n",
              "      quickchartButtonEl.style.display =\n",
              "        google.colab.kernel.accessAllowed ? 'block' : 'none';\n",
              "    })();\n",
              "  </script>\n",
              "</div>\n",
              "\n",
              "    </div>\n",
              "  </div>\n"
            ]
          },
          "metadata": {},
          "execution_count": 197
        }
      ],
      "source": [
        "# Tahmin Sonuçlarını İçeren Veri Çerçevesi Oluşturma\n",
        "result_df = pd.DataFrame(prediction_df)\n",
        "\n",
        "# 'Survived' sütununu modelin tahmin sonuçları ile güncelle\n",
        "result_df['Survived'] = predictions\n",
        "\n",
        "# Eşik değeri üzerinden tahmin sonuçlarını 0 veya 1'e dönüştür\n",
        "result_df['Survived'] = result_df['Survived'].apply(lambda x: 1 if x > threshold else 0)\n",
        "\n",
        "# Veri çerçevesinin ilk birkaç satırını görüntüle\n",
        "result_df.head()\n"
      ]
    },
    {
      "cell_type": "code",
      "execution_count": null,
      "metadata": {
        "colab": {
          "base_uri": "https://localhost:8080/"
        },
        "id": "UBso4mO_GJr8",
        "outputId": "9fe5358d-6d4d-4cb6-d233-82341020d6f5"
      },
      "outputs": [
        {
          "output_type": "stream",
          "name": "stdout",
          "text": [
            "1/1 [==============================] - 0s 23ms/step\n",
            "Hayatta Kalma Olasılığı: 0.9757461\n"
          ]
        },
        {
          "output_type": "stream",
          "name": "stderr",
          "text": [
            "/usr/local/lib/python3.10/dist-packages/sklearn/base.py:439: UserWarning: X does not have valid feature names, but StandardScaler was fitted with feature names\n",
            "  warnings.warn(\n"
          ]
        }
      ],
      "source": [
        "# Elle Girilen Veriye Göre Tahmin Yapma\n",
        "\n",
        "# Kullanıcı tarafından girilen bilgiler\n",
        "cinsiyet = 'female'\n",
        "yas = 38\n",
        "bilet_ucreti = 71.2833\n",
        "bindigi_yer = 'C'\n",
        "\n",
        "# Kategorik verileri sayısal değerlere dönüştürme\n",
        "cinsiyet = 0 if cinsiyet.lower() == 'male' else 1\n",
        "bindigi_yer = {'C': 0, 'Q': 1, 'S': 2}.get(bindigi_yer.upper(), -1)\n",
        "\n",
        "# 'bindigi_yer' değerinin geçerli olup olmadığını kontrol etme\n",
        "if bindigi_yer == -1:\n",
        "    print(\"'bindigi_yer' değeri geçersiz. Lütfen 'C', 'Q' veya 'S' kullanın.\")\n",
        "    exit()\n",
        "\n",
        "# Yolcu verilerini içeren bir liste oluşturma\n",
        "yolcu = [1, cinsiyet, yas, 1, 0, bilet_ucreti, bindigi_yer]  # Basitlik için Pclass=1 olarak varsayıyoruz\n",
        "\n",
        "# Listeyi NumPy dizisine dönüştürme\n",
        "yolcu = np.array(yolcu).reshape(1, -1)\n",
        "\n",
        "# Yolcu verilerini eğitim sırasında kullanılan ölçekleyici ile ölçekleme\n",
        "yolcu = dataScaler.transform(yolcu)\n",
        "\n",
        "# Tahmin yapma\n",
        "tahmin = model.predict(yolcu)\n",
        "\n",
        "# Tahmini yazdırma\n",
        "print(\"Hayatta Kalma Olasılığı:\", tahmin[0, 0])\n"
      ]
    },
    {
      "cell_type": "code",
      "execution_count": null,
      "metadata": {
        "id": "YEevp-b0PMxf"
      },
      "outputs": [],
      "source": [
        "# Modeli JSON Formatında Kaydetme\n",
        "\n",
        "# Modeli JSON formatına çevirme\n",
        "model_json = model.to_json()\n",
        "\n",
        "# Oluşturulan JSON modelini \"model.json\" dosyasına yazma\n",
        "with open(\"model.json\", \"w\") as json_file:\n",
        "    json_file.write(model_json)\n"
      ]
    },
    {
      "cell_type": "code",
      "execution_count": 199,
      "metadata": {
        "colab": {
          "base_uri": "https://localhost:8080/"
        },
        "id": "ElPXc6uPNwoR",
        "outputId": "e8d44acd-de26-49f9-9fa2-abe9983d29b5"
      },
      "outputs": [
        {
          "output_type": "stream",
          "name": "stderr",
          "text": [
            "/usr/local/lib/python3.10/dist-packages/keras/src/engine/training.py:3103: UserWarning: You are saving your model as an HDF5 file via `model.save()`. This file format is considered legacy. We recommend using instead the native Keras format, e.g. `model.save('my_model.keras')`.\n",
            "  saving_api.save_model(\n"
          ]
        }
      ],
      "source": [
        "# Modeli H5 Formatında Kaydetme\n",
        "\n",
        "# Eğitilmiş modeli \"my_model.h5\" adlı bir H5 dosyasına kaydetme\n",
        "model.save(\"my_model.h5\")\n"
      ]
    },
    {
      "cell_type": "code",
      "execution_count": null,
      "metadata": {
        "id": "w6vQyN1RL5PP",
        "colab": {
          "base_uri": "https://localhost:8080/"
        },
        "outputId": "13e0548a-0082-42e4-8721-990fd95f5c9a"
      },
      "outputs": [
        {
          "output_type": "stream",
          "name": "stdout",
          "text": [
            "Collecting tensorflowjs==2.8.4\n",
            "  Using cached tensorflowjs-2.8.4-py3-none-any.whl (63 kB)\n",
            "Collecting h5py<3,>=2.8.0 (from tensorflowjs==2.8.4)\n",
            "  Using cached h5py-2.10.0.tar.gz (301 kB)\n",
            "  Preparing metadata (setup.py) ... \u001b[?25l\u001b[?25hdone\n",
            "Requirement already satisfied: six<2,>=1.12.0 in /usr/local/lib/python3.10/dist-packages (from tensorflowjs==2.8.4) (1.16.0)\n",
            "Collecting tensorflow-hub<0.10,>=0.7.0 (from tensorflowjs==2.8.4)\n",
            "  Using cached tensorflow_hub-0.9.0-py2.py3-none-any.whl (103 kB)\n",
            "Requirement already satisfied: tensorflow<3,>=2.1.0 in /usr/local/lib/python3.10/dist-packages (from tensorflowjs==2.8.4) (2.15.0)\n",
            "Requirement already satisfied: numpy>=1.7 in /usr/local/lib/python3.10/dist-packages (from h5py<3,>=2.8.0->tensorflowjs==2.8.4) (1.23.5)\n",
            "Requirement already satisfied: absl-py>=1.0.0 in /usr/local/lib/python3.10/dist-packages (from tensorflow<3,>=2.1.0->tensorflowjs==2.8.4) (1.4.0)\n",
            "Requirement already satisfied: astunparse>=1.6.0 in /usr/local/lib/python3.10/dist-packages (from tensorflow<3,>=2.1.0->tensorflowjs==2.8.4) (1.6.3)\n",
            "Requirement already satisfied: flatbuffers>=23.5.26 in /usr/local/lib/python3.10/dist-packages (from tensorflow<3,>=2.1.0->tensorflowjs==2.8.4) (23.5.26)\n",
            "Requirement already satisfied: gast!=0.5.0,!=0.5.1,!=0.5.2,>=0.2.1 in /usr/local/lib/python3.10/dist-packages (from tensorflow<3,>=2.1.0->tensorflowjs==2.8.4) (0.5.4)\n",
            "Requirement already satisfied: google-pasta>=0.1.1 in /usr/local/lib/python3.10/dist-packages (from tensorflow<3,>=2.1.0->tensorflowjs==2.8.4) (0.2.0)\n",
            "Requirement already satisfied: libclang>=13.0.0 in /usr/local/lib/python3.10/dist-packages (from tensorflow<3,>=2.1.0->tensorflowjs==2.8.4) (16.0.6)\n",
            "Requirement already satisfied: ml-dtypes~=0.2.0 in /usr/local/lib/python3.10/dist-packages (from tensorflow<3,>=2.1.0->tensorflowjs==2.8.4) (0.2.0)\n",
            "Requirement already satisfied: opt-einsum>=2.3.2 in /usr/local/lib/python3.10/dist-packages (from tensorflow<3,>=2.1.0->tensorflowjs==2.8.4) (3.3.0)\n",
            "Requirement already satisfied: packaging in /usr/local/lib/python3.10/dist-packages (from tensorflow<3,>=2.1.0->tensorflowjs==2.8.4) (23.2)\n",
            "Requirement already satisfied: protobuf!=4.21.0,!=4.21.1,!=4.21.2,!=4.21.3,!=4.21.4,!=4.21.5,<5.0.0dev,>=3.20.3 in /usr/local/lib/python3.10/dist-packages (from tensorflow<3,>=2.1.0->tensorflowjs==2.8.4) (3.20.3)\n",
            "Requirement already satisfied: setuptools in /usr/local/lib/python3.10/dist-packages (from tensorflow<3,>=2.1.0->tensorflowjs==2.8.4) (67.7.2)\n",
            "Requirement already satisfied: termcolor>=1.1.0 in /usr/local/lib/python3.10/dist-packages (from tensorflow<3,>=2.1.0->tensorflowjs==2.8.4) (2.4.0)\n",
            "Requirement already satisfied: typing-extensions>=3.6.6 in /usr/local/lib/python3.10/dist-packages (from tensorflow<3,>=2.1.0->tensorflowjs==2.8.4) (4.5.0)\n",
            "Requirement already satisfied: wrapt<1.15,>=1.11.0 in /usr/local/lib/python3.10/dist-packages (from tensorflow<3,>=2.1.0->tensorflowjs==2.8.4) (1.14.1)\n",
            "Requirement already satisfied: tensorflow-io-gcs-filesystem>=0.23.1 in /usr/local/lib/python3.10/dist-packages (from tensorflow<3,>=2.1.0->tensorflowjs==2.8.4) (0.35.0)\n",
            "Requirement already satisfied: grpcio<2.0,>=1.24.3 in /usr/local/lib/python3.10/dist-packages (from tensorflow<3,>=2.1.0->tensorflowjs==2.8.4) (1.60.0)\n",
            "Requirement already satisfied: tensorboard<2.16,>=2.15 in /usr/local/lib/python3.10/dist-packages (from tensorflow<3,>=2.1.0->tensorflowjs==2.8.4) (2.15.1)\n",
            "Requirement already satisfied: tensorflow-estimator<2.16,>=2.15.0 in /usr/local/lib/python3.10/dist-packages (from tensorflow<3,>=2.1.0->tensorflowjs==2.8.4) (2.15.0)\n",
            "Requirement already satisfied: keras<2.16,>=2.15.0 in /usr/local/lib/python3.10/dist-packages (from tensorflow<3,>=2.1.0->tensorflowjs==2.8.4) (2.15.0)\n",
            "Requirement already satisfied: wheel<1.0,>=0.23.0 in /usr/local/lib/python3.10/dist-packages (from astunparse>=1.6.0->tensorflow<3,>=2.1.0->tensorflowjs==2.8.4) (0.42.0)\n",
            "Requirement already satisfied: google-auth<3,>=1.6.3 in /usr/local/lib/python3.10/dist-packages (from tensorboard<2.16,>=2.15->tensorflow<3,>=2.1.0->tensorflowjs==2.8.4) (2.17.3)\n",
            "Requirement already satisfied: google-auth-oauthlib<2,>=0.5 in /usr/local/lib/python3.10/dist-packages (from tensorboard<2.16,>=2.15->tensorflow<3,>=2.1.0->tensorflowjs==2.8.4) (1.2.0)\n",
            "Requirement already satisfied: markdown>=2.6.8 in /usr/local/lib/python3.10/dist-packages (from tensorboard<2.16,>=2.15->tensorflow<3,>=2.1.0->tensorflowjs==2.8.4) (3.5.1)\n",
            "Requirement already satisfied: requests<3,>=2.21.0 in /usr/local/lib/python3.10/dist-packages (from tensorboard<2.16,>=2.15->tensorflow<3,>=2.1.0->tensorflowjs==2.8.4) (2.31.0)\n",
            "Requirement already satisfied: tensorboard-data-server<0.8.0,>=0.7.0 in /usr/local/lib/python3.10/dist-packages (from tensorboard<2.16,>=2.15->tensorflow<3,>=2.1.0->tensorflowjs==2.8.4) (0.7.2)\n",
            "Requirement already satisfied: werkzeug>=1.0.1 in /usr/local/lib/python3.10/dist-packages (from tensorboard<2.16,>=2.15->tensorflow<3,>=2.1.0->tensorflowjs==2.8.4) (3.0.1)\n",
            "Requirement already satisfied: cachetools<6.0,>=2.0.0 in /usr/local/lib/python3.10/dist-packages (from google-auth<3,>=1.6.3->tensorboard<2.16,>=2.15->tensorflow<3,>=2.1.0->tensorflowjs==2.8.4) (5.3.2)\n",
            "Requirement already satisfied: pyasn1-modules>=0.2.1 in /usr/local/lib/python3.10/dist-packages (from google-auth<3,>=1.6.3->tensorboard<2.16,>=2.15->tensorflow<3,>=2.1.0->tensorflowjs==2.8.4) (0.3.0)\n",
            "Requirement already satisfied: rsa<5,>=3.1.4 in /usr/local/lib/python3.10/dist-packages (from google-auth<3,>=1.6.3->tensorboard<2.16,>=2.15->tensorflow<3,>=2.1.0->tensorflowjs==2.8.4) (4.9)\n",
            "Requirement already satisfied: requests-oauthlib>=0.7.0 in /usr/local/lib/python3.10/dist-packages (from google-auth-oauthlib<2,>=0.5->tensorboard<2.16,>=2.15->tensorflow<3,>=2.1.0->tensorflowjs==2.8.4) (1.3.1)\n",
            "Requirement already satisfied: charset-normalizer<4,>=2 in /usr/local/lib/python3.10/dist-packages (from requests<3,>=2.21.0->tensorboard<2.16,>=2.15->tensorflow<3,>=2.1.0->tensorflowjs==2.8.4) (3.3.2)\n",
            "Requirement already satisfied: idna<4,>=2.5 in /usr/local/lib/python3.10/dist-packages (from requests<3,>=2.21.0->tensorboard<2.16,>=2.15->tensorflow<3,>=2.1.0->tensorflowjs==2.8.4) (3.6)\n",
            "Requirement already satisfied: urllib3<3,>=1.21.1 in /usr/local/lib/python3.10/dist-packages (from requests<3,>=2.21.0->tensorboard<2.16,>=2.15->tensorflow<3,>=2.1.0->tensorflowjs==2.8.4) (2.0.7)\n",
            "Requirement already satisfied: certifi>=2017.4.17 in /usr/local/lib/python3.10/dist-packages (from requests<3,>=2.21.0->tensorboard<2.16,>=2.15->tensorflow<3,>=2.1.0->tensorflowjs==2.8.4) (2023.11.17)\n",
            "Requirement already satisfied: MarkupSafe>=2.1.1 in /usr/local/lib/python3.10/dist-packages (from werkzeug>=1.0.1->tensorboard<2.16,>=2.15->tensorflow<3,>=2.1.0->tensorflowjs==2.8.4) (2.1.3)\n",
            "Requirement already satisfied: pyasn1<0.6.0,>=0.4.6 in /usr/local/lib/python3.10/dist-packages (from pyasn1-modules>=0.2.1->google-auth<3,>=1.6.3->tensorboard<2.16,>=2.15->tensorflow<3,>=2.1.0->tensorflowjs==2.8.4) (0.5.1)\n",
            "Requirement already satisfied: oauthlib>=3.0.0 in /usr/local/lib/python3.10/dist-packages (from requests-oauthlib>=0.7.0->google-auth-oauthlib<2,>=0.5->tensorboard<2.16,>=2.15->tensorflow<3,>=2.1.0->tensorflowjs==2.8.4) (3.2.2)\n",
            "Building wheels for collected packages: h5py\n",
            "  \u001b[1;31merror\u001b[0m: \u001b[1msubprocess-exited-with-error\u001b[0m\n",
            "  \n",
            "  \u001b[31m×\u001b[0m \u001b[32mpython setup.py bdist_wheel\u001b[0m did not run successfully.\n",
            "  \u001b[31m│\u001b[0m exit code: \u001b[1;36m1\u001b[0m\n",
            "  \u001b[31m╰─>\u001b[0m See above for output.\n",
            "  \n",
            "  \u001b[1;35mnote\u001b[0m: This error originates from a subprocess, and is likely not a problem with pip.\n",
            "  Building wheel for h5py (setup.py) ... \u001b[?25lerror\n",
            "\u001b[31m  ERROR: Failed building wheel for h5py\u001b[0m\u001b[31m\n",
            "\u001b[0m\u001b[?25h  Running setup.py clean for h5py\n",
            "Failed to build h5py\n",
            "\u001b[31mERROR: Could not build wheels for h5py, which is required to install pyproject.toml-based projects\u001b[0m\u001b[31m\n",
            "\u001b[0m"
          ]
        }
      ],
      "source": [
        "!pip install tensorflowjs==2.8.4\n"
      ]
    },
    {
      "cell_type": "code",
      "source": [
        "!pip install --upgrade tensorflowjs\n"
      ],
      "metadata": {
        "colab": {
          "base_uri": "https://localhost:8080/"
        },
        "id": "8SW6YeKCf45N",
        "outputId": "8d28a575-1d16-404f-8132-f017df091195"
      },
      "execution_count": null,
      "outputs": [
        {
          "output_type": "stream",
          "name": "stdout",
          "text": [
            "Requirement already satisfied: tensorflowjs in /usr/local/lib/python3.10/dist-packages (4.15.0)\n",
            "Requirement already satisfied: flax>=0.7.2 in /usr/local/lib/python3.10/dist-packages (from tensorflowjs) (0.7.5)\n",
            "Requirement already satisfied: importlib_resources>=5.9.0 in /usr/local/lib/python3.10/dist-packages (from tensorflowjs) (6.1.1)\n",
            "Requirement already satisfied: jax>=0.4.13 in /usr/local/lib/python3.10/dist-packages (from tensorflowjs) (0.4.21)\n",
            "Requirement already satisfied: jaxlib>=0.4.13 in /usr/local/lib/python3.10/dist-packages (from tensorflowjs) (0.4.23+cuda12.cudnn89)\n",
            "Requirement already satisfied: tensorflow<3,>=2.13.0 in /usr/local/lib/python3.10/dist-packages (from tensorflowjs) (2.15.0)\n",
            "Requirement already satisfied: tensorflow-decision-forests>=1.5.0 in /usr/local/lib/python3.10/dist-packages (from tensorflowjs) (1.8.1)\n",
            "Requirement already satisfied: six<2,>=1.16.0 in /usr/local/lib/python3.10/dist-packages (from tensorflowjs) (1.16.0)\n",
            "Requirement already satisfied: tensorflow-hub>=0.14.0 in /usr/local/lib/python3.10/dist-packages (from tensorflowjs) (0.15.0)\n",
            "Requirement already satisfied: packaging~=23.1 in /usr/local/lib/python3.10/dist-packages (from tensorflowjs) (23.2)\n",
            "Requirement already satisfied: numpy>=1.22 in /usr/local/lib/python3.10/dist-packages (from flax>=0.7.2->tensorflowjs) (1.23.5)\n",
            "Requirement already satisfied: msgpack in /usr/local/lib/python3.10/dist-packages (from flax>=0.7.2->tensorflowjs) (1.0.7)\n",
            "Requirement already satisfied: optax in /usr/local/lib/python3.10/dist-packages (from flax>=0.7.2->tensorflowjs) (0.1.7)\n",
            "Requirement already satisfied: orbax-checkpoint in /usr/local/lib/python3.10/dist-packages (from flax>=0.7.2->tensorflowjs) (0.4.4)\n",
            "Requirement already satisfied: tensorstore in /usr/local/lib/python3.10/dist-packages (from flax>=0.7.2->tensorflowjs) (0.1.45)\n",
            "Requirement already satisfied: rich>=11.1 in /usr/local/lib/python3.10/dist-packages (from flax>=0.7.2->tensorflowjs) (13.7.0)\n",
            "Requirement already satisfied: typing-extensions>=4.2 in /usr/local/lib/python3.10/dist-packages (from flax>=0.7.2->tensorflowjs) (4.5.0)\n",
            "Requirement already satisfied: PyYAML>=5.4.1 in /usr/local/lib/python3.10/dist-packages (from flax>=0.7.2->tensorflowjs) (6.0.1)\n",
            "Requirement already satisfied: ml-dtypes>=0.2.0 in /usr/local/lib/python3.10/dist-packages (from jax>=0.4.13->tensorflowjs) (0.2.0)\n",
            "Requirement already satisfied: opt-einsum in /usr/local/lib/python3.10/dist-packages (from jax>=0.4.13->tensorflowjs) (3.3.0)\n",
            "Requirement already satisfied: scipy>=1.9 in /usr/local/lib/python3.10/dist-packages (from jax>=0.4.13->tensorflowjs) (1.11.4)\n",
            "Requirement already satisfied: absl-py>=1.0.0 in /usr/local/lib/python3.10/dist-packages (from tensorflow<3,>=2.13.0->tensorflowjs) (1.4.0)\n",
            "Requirement already satisfied: astunparse>=1.6.0 in /usr/local/lib/python3.10/dist-packages (from tensorflow<3,>=2.13.0->tensorflowjs) (1.6.3)\n",
            "Requirement already satisfied: flatbuffers>=23.5.26 in /usr/local/lib/python3.10/dist-packages (from tensorflow<3,>=2.13.0->tensorflowjs) (23.5.26)\n",
            "Requirement already satisfied: gast!=0.5.0,!=0.5.1,!=0.5.2,>=0.2.1 in /usr/local/lib/python3.10/dist-packages (from tensorflow<3,>=2.13.0->tensorflowjs) (0.5.4)\n",
            "Requirement already satisfied: google-pasta>=0.1.1 in /usr/local/lib/python3.10/dist-packages (from tensorflow<3,>=2.13.0->tensorflowjs) (0.2.0)\n",
            "Requirement already satisfied: h5py>=2.9.0 in /usr/local/lib/python3.10/dist-packages (from tensorflow<3,>=2.13.0->tensorflowjs) (3.9.0)\n",
            "Requirement already satisfied: libclang>=13.0.0 in /usr/local/lib/python3.10/dist-packages (from tensorflow<3,>=2.13.0->tensorflowjs) (16.0.6)\n",
            "Requirement already satisfied: protobuf!=4.21.0,!=4.21.1,!=4.21.2,!=4.21.3,!=4.21.4,!=4.21.5,<5.0.0dev,>=3.20.3 in /usr/local/lib/python3.10/dist-packages (from tensorflow<3,>=2.13.0->tensorflowjs) (3.20.3)\n",
            "Requirement already satisfied: setuptools in /usr/local/lib/python3.10/dist-packages (from tensorflow<3,>=2.13.0->tensorflowjs) (67.7.2)\n",
            "Requirement already satisfied: termcolor>=1.1.0 in /usr/local/lib/python3.10/dist-packages (from tensorflow<3,>=2.13.0->tensorflowjs) (2.4.0)\n",
            "Requirement already satisfied: wrapt<1.15,>=1.11.0 in /usr/local/lib/python3.10/dist-packages (from tensorflow<3,>=2.13.0->tensorflowjs) (1.14.1)\n",
            "Requirement already satisfied: tensorflow-io-gcs-filesystem>=0.23.1 in /usr/local/lib/python3.10/dist-packages (from tensorflow<3,>=2.13.0->tensorflowjs) (0.35.0)\n",
            "Requirement already satisfied: grpcio<2.0,>=1.24.3 in /usr/local/lib/python3.10/dist-packages (from tensorflow<3,>=2.13.0->tensorflowjs) (1.60.0)\n",
            "Requirement already satisfied: tensorboard<2.16,>=2.15 in /usr/local/lib/python3.10/dist-packages (from tensorflow<3,>=2.13.0->tensorflowjs) (2.15.1)\n",
            "Requirement already satisfied: tensorflow-estimator<2.16,>=2.15.0 in /usr/local/lib/python3.10/dist-packages (from tensorflow<3,>=2.13.0->tensorflowjs) (2.15.0)\n",
            "Requirement already satisfied: keras<2.16,>=2.15.0 in /usr/local/lib/python3.10/dist-packages (from tensorflow<3,>=2.13.0->tensorflowjs) (2.15.0)\n",
            "Requirement already satisfied: pandas in /usr/local/lib/python3.10/dist-packages (from tensorflow-decision-forests>=1.5.0->tensorflowjs) (1.5.3)\n",
            "Requirement already satisfied: wheel in /usr/local/lib/python3.10/dist-packages (from tensorflow-decision-forests>=1.5.0->tensorflowjs) (0.42.0)\n",
            "Requirement already satisfied: wurlitzer in /usr/local/lib/python3.10/dist-packages (from tensorflow-decision-forests>=1.5.0->tensorflowjs) (3.0.3)\n",
            "Requirement already satisfied: markdown-it-py>=2.2.0 in /usr/local/lib/python3.10/dist-packages (from rich>=11.1->flax>=0.7.2->tensorflowjs) (3.0.0)\n",
            "Requirement already satisfied: pygments<3.0.0,>=2.13.0 in /usr/local/lib/python3.10/dist-packages (from rich>=11.1->flax>=0.7.2->tensorflowjs) (2.16.1)\n",
            "Requirement already satisfied: google-auth<3,>=1.6.3 in /usr/local/lib/python3.10/dist-packages (from tensorboard<2.16,>=2.15->tensorflow<3,>=2.13.0->tensorflowjs) (2.17.3)\n",
            "Requirement already satisfied: google-auth-oauthlib<2,>=0.5 in /usr/local/lib/python3.10/dist-packages (from tensorboard<2.16,>=2.15->tensorflow<3,>=2.13.0->tensorflowjs) (1.2.0)\n",
            "Requirement already satisfied: markdown>=2.6.8 in /usr/local/lib/python3.10/dist-packages (from tensorboard<2.16,>=2.15->tensorflow<3,>=2.13.0->tensorflowjs) (3.5.1)\n",
            "Requirement already satisfied: requests<3,>=2.21.0 in /usr/local/lib/python3.10/dist-packages (from tensorboard<2.16,>=2.15->tensorflow<3,>=2.13.0->tensorflowjs) (2.31.0)\n",
            "Requirement already satisfied: tensorboard-data-server<0.8.0,>=0.7.0 in /usr/local/lib/python3.10/dist-packages (from tensorboard<2.16,>=2.15->tensorflow<3,>=2.13.0->tensorflowjs) (0.7.2)\n",
            "Requirement already satisfied: werkzeug>=1.0.1 in /usr/local/lib/python3.10/dist-packages (from tensorboard<2.16,>=2.15->tensorflow<3,>=2.13.0->tensorflowjs) (3.0.1)\n",
            "Requirement already satisfied: chex>=0.1.5 in /usr/local/lib/python3.10/dist-packages (from optax->flax>=0.7.2->tensorflowjs) (0.1.7)\n",
            "Requirement already satisfied: etils[epath,epy] in /usr/local/lib/python3.10/dist-packages (from orbax-checkpoint->flax>=0.7.2->tensorflowjs) (1.6.0)\n",
            "Requirement already satisfied: nest_asyncio in /usr/local/lib/python3.10/dist-packages (from orbax-checkpoint->flax>=0.7.2->tensorflowjs) (1.5.8)\n",
            "Requirement already satisfied: python-dateutil>=2.8.1 in /usr/local/lib/python3.10/dist-packages (from pandas->tensorflow-decision-forests>=1.5.0->tensorflowjs) (2.8.2)\n",
            "Requirement already satisfied: pytz>=2020.1 in /usr/local/lib/python3.10/dist-packages (from pandas->tensorflow-decision-forests>=1.5.0->tensorflowjs) (2023.3.post1)\n",
            "Requirement already satisfied: dm-tree>=0.1.5 in /usr/local/lib/python3.10/dist-packages (from chex>=0.1.5->optax->flax>=0.7.2->tensorflowjs) (0.1.8)\n",
            "Requirement already satisfied: toolz>=0.9.0 in /usr/local/lib/python3.10/dist-packages (from chex>=0.1.5->optax->flax>=0.7.2->tensorflowjs) (0.12.0)\n",
            "Requirement already satisfied: cachetools<6.0,>=2.0.0 in /usr/local/lib/python3.10/dist-packages (from google-auth<3,>=1.6.3->tensorboard<2.16,>=2.15->tensorflow<3,>=2.13.0->tensorflowjs) (5.3.2)\n",
            "Requirement already satisfied: pyasn1-modules>=0.2.1 in /usr/local/lib/python3.10/dist-packages (from google-auth<3,>=1.6.3->tensorboard<2.16,>=2.15->tensorflow<3,>=2.13.0->tensorflowjs) (0.3.0)\n",
            "Requirement already satisfied: rsa<5,>=3.1.4 in /usr/local/lib/python3.10/dist-packages (from google-auth<3,>=1.6.3->tensorboard<2.16,>=2.15->tensorflow<3,>=2.13.0->tensorflowjs) (4.9)\n",
            "Requirement already satisfied: requests-oauthlib>=0.7.0 in /usr/local/lib/python3.10/dist-packages (from google-auth-oauthlib<2,>=0.5->tensorboard<2.16,>=2.15->tensorflow<3,>=2.13.0->tensorflowjs) (1.3.1)\n",
            "Requirement already satisfied: mdurl~=0.1 in /usr/local/lib/python3.10/dist-packages (from markdown-it-py>=2.2.0->rich>=11.1->flax>=0.7.2->tensorflowjs) (0.1.2)\n",
            "Requirement already satisfied: charset-normalizer<4,>=2 in /usr/local/lib/python3.10/dist-packages (from requests<3,>=2.21.0->tensorboard<2.16,>=2.15->tensorflow<3,>=2.13.0->tensorflowjs) (3.3.2)\n",
            "Requirement already satisfied: idna<4,>=2.5 in /usr/local/lib/python3.10/dist-packages (from requests<3,>=2.21.0->tensorboard<2.16,>=2.15->tensorflow<3,>=2.13.0->tensorflowjs) (3.6)\n",
            "Requirement already satisfied: urllib3<3,>=1.21.1 in /usr/local/lib/python3.10/dist-packages (from requests<3,>=2.21.0->tensorboard<2.16,>=2.15->tensorflow<3,>=2.13.0->tensorflowjs) (2.0.7)\n",
            "Requirement already satisfied: certifi>=2017.4.17 in /usr/local/lib/python3.10/dist-packages (from requests<3,>=2.21.0->tensorboard<2.16,>=2.15->tensorflow<3,>=2.13.0->tensorflowjs) (2023.11.17)\n",
            "Requirement already satisfied: MarkupSafe>=2.1.1 in /usr/local/lib/python3.10/dist-packages (from werkzeug>=1.0.1->tensorboard<2.16,>=2.15->tensorflow<3,>=2.13.0->tensorflowjs) (2.1.3)\n",
            "Requirement already satisfied: fsspec in /usr/local/lib/python3.10/dist-packages (from etils[epath,epy]->orbax-checkpoint->flax>=0.7.2->tensorflowjs) (2023.6.0)\n",
            "Requirement already satisfied: zipp in /usr/local/lib/python3.10/dist-packages (from etils[epath,epy]->orbax-checkpoint->flax>=0.7.2->tensorflowjs) (3.17.0)\n",
            "Requirement already satisfied: pyasn1<0.6.0,>=0.4.6 in /usr/local/lib/python3.10/dist-packages (from pyasn1-modules>=0.2.1->google-auth<3,>=1.6.3->tensorboard<2.16,>=2.15->tensorflow<3,>=2.13.0->tensorflowjs) (0.5.1)\n",
            "Requirement already satisfied: oauthlib>=3.0.0 in /usr/local/lib/python3.10/dist-packages (from requests-oauthlib>=0.7.0->google-auth-oauthlib<2,>=0.5->tensorboard<2.16,>=2.15->tensorflow<3,>=2.13.0->tensorflowjs) (3.2.2)\n"
          ]
        }
      ]
    },
    {
      "cell_type": "code",
      "source": [
        "!pip install jax==0.4.21\n",
        "!pip install jaxlib==0.1.77\n"
      ],
      "metadata": {
        "colab": {
          "base_uri": "https://localhost:8080/"
        },
        "id": "pa-oiuspgAf2",
        "outputId": "4b9d0327-833d-42ee-e94a-cd53b9753266"
      },
      "execution_count": null,
      "outputs": [
        {
          "output_type": "stream",
          "name": "stdout",
          "text": [
            "Requirement already satisfied: jax==0.4.21 in /usr/local/lib/python3.10/dist-packages (0.4.21)\n",
            "Requirement already satisfied: ml-dtypes>=0.2.0 in /usr/local/lib/python3.10/dist-packages (from jax==0.4.21) (0.2.0)\n",
            "Requirement already satisfied: numpy>=1.22 in /usr/local/lib/python3.10/dist-packages (from jax==0.4.21) (1.23.5)\n",
            "Requirement already satisfied: opt-einsum in /usr/local/lib/python3.10/dist-packages (from jax==0.4.21) (3.3.0)\n",
            "Requirement already satisfied: scipy>=1.9 in /usr/local/lib/python3.10/dist-packages (from jax==0.4.21) (1.11.4)\n",
            "\u001b[31mERROR: Could not find a version that satisfies the requirement jaxlib==0.1.77 (from versions: 0.4.0, 0.4.1, 0.4.2, 0.4.3, 0.4.4, 0.4.6, 0.4.7, 0.4.9, 0.4.10, 0.4.11, 0.4.12, 0.4.13, 0.4.14, 0.4.15, 0.4.16, 0.4.17, 0.4.18, 0.4.19, 0.4.20, 0.4.21, 0.4.22, 0.4.23)\u001b[0m\u001b[31m\n",
            "\u001b[0m\u001b[31mERROR: No matching distribution found for jaxlib==0.1.77\u001b[0m\u001b[31m\n",
            "\u001b[0m"
          ]
        }
      ]
    },
    {
      "cell_type": "code",
      "execution_count": null,
      "metadata": {
        "id": "j9-urC25lg9k"
      },
      "outputs": [],
      "source": [
        "import tensorflowjs as tfjs\n",
        "\n",
        "# Keras modelini TensorFlow.js formatına çevirip \"../Model\" dizinine kaydetme\n",
        "tfjs.converters.save_keras_model(model, '../Model')\n"
      ]
    },
    {
      "cell_type": "code",
      "execution_count": null,
      "metadata": {
        "id": "S95gAqUYOLeS"
      },
      "outputs": [],
      "source": [
        "# Ölçekleyici Bilgilerini Kaydetme\n",
        "import json\n",
        "# Ölçekleyici bilgilerini içeren bir sözlük oluşturma\n",
        "scaler_info = {\n",
        "    'ortalama': dataScaler.mean_.tolist(),\n",
        "    'ölçek': dataScaler.scale_.tolist()\n",
        "}\n",
        "\n",
        "# Oluşturulan sözlüğü \"scaler_info.json\" adlı bir JSON dosyasına yazma\n",
        "with open(\"scaler_info.json\", \"w\") as json_file:\n",
        "    json.dump(scaler_info, json_file)\n"
      ]
    }
  ],
  "metadata": {
    "colab": {
      "provenance": [],
      "gpuType": "T4"
    },
    "kernelspec": {
      "display_name": "Python 3",
      "name": "python3"
    },
    "language_info": {
      "name": "python"
    },
    "accelerator": "GPU"
  },
  "nbformat": 4,
  "nbformat_minor": 0
}